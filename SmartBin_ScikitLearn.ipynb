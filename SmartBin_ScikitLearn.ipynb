{
  "nbformat": 4,
  "nbformat_minor": 0,
  "metadata": {
    "colab": {
      "provenance": [],
      "authorship_tag": "ABX9TyN58wKkXAQy17JHboCJQKNz",
      "include_colab_link": true
    },
    "kernelspec": {
      "name": "python3",
      "display_name": "Python 3"
    },
    "language_info": {
      "name": "python"
    }
  },
  "cells": [
    {
      "cell_type": "markdown",
      "metadata": {
        "id": "view-in-github",
        "colab_type": "text"
      },
      "source": [
        "<a href=\"https://colab.research.google.com/github/Nice9115/SmartBin_AI/blob/main/SmartBin_ScikitLearn.ipynb\" target=\"_parent\"><img src=\"https://colab.research.google.com/assets/colab-badge.svg\" alt=\"Open In Colab\"/></a>"
      ]
    },
    {
      "cell_type": "code",
      "execution_count": null,
      "metadata": {
        "id": "xDe6Tgdwp8Gy"
      },
      "outputs": [],
      "source": []
    },
    {
      "cell_type": "markdown",
      "source": [
        "# Smart Bin Project – AI Waste Classification\n",
        "## Task 1: Classical ML with Scikit-learn\n",
        "**Goal**: Classify waste (plastic, organic, paper, glass) using sensor data"
      ],
      "metadata": {
        "id": "qQmGv2M5qPVE"
      }
    },
    {
      "cell_type": "code",
      "source": [
        "# BLOCK 1: Simulate smart bin sensor data\n",
        "import pandas as pd\n",
        "import numpy as np\n",
        "\n",
        "# Set seed so results are same every time\n",
        "np.random.seed(42)\n",
        "\n",
        "# Create 200 fake waste samples\n",
        "data = {\n",
        "    'weight_kg': np.random.uniform(0.1, 5.0, 200),        # 0.1 to 5 kg\n",
        "    'volume_liters': np.random.uniform(0.5, 10.0, 200),   # 0.5 to 10 L\n",
        "    'color_score': np.random.uniform(0, 1, 200),         # 0=green, 1=brown\n",
        "    'waste_type': np.random.choice(\n",
        "        ['plastic', 'organic', 'paper', 'glass'], 200\n",
        "    )\n",
        "}\n",
        "\n",
        "# Turn into a table\n",
        "df = pd.DataFrame(data)\n",
        "\n",
        "# Show first 5 rows\n",
        "print(\"First 5 waste samples:\")\n",
        "print(df.head())"
      ],
      "metadata": {
        "id": "DuXpJcPBqTx8",
        "colab": {
          "base_uri": "https://localhost:8080/"
        },
        "outputId": "6a6860f9-8dd1-44c5-e726-1bef478027e8"
      },
      "execution_count": 2,
      "outputs": [
        {
          "output_type": "stream",
          "name": "stdout",
          "text": [
            "First 5 waste samples:\n",
            "   weight_kg  volume_liters  color_score waste_type\n",
            "0   1.935247       6.599301     0.103124    plastic\n",
            "1   4.758500       1.299330     0.902553    organic\n",
            "2   3.686770       2.035473     0.505252      glass\n",
            "3   3.033427       9.036265     0.826457    organic\n",
            "4   0.864491       6.261076     0.320050    plastic\n"
          ]
        }
      ]
    },
    {
      "cell_type": "code",
      "source": [
        "# BLOCK 2: Prepare features (X) and labels (y)\n",
        "from sklearn.preprocessing import LabelEncoder\n",
        "\n",
        "# X = sensor readings\n",
        "X = df[['weight_kg', 'volume_liters', 'color_score']]\n",
        "\n",
        "# y = waste type → convert text to numbers\n",
        "le = LabelEncoder()\n",
        "y = le.fit_transform(df['waste_type'])\n",
        "\n",
        "print(\"Features (X):\")\n",
        "print(X.head())\n",
        "print(\"\\nLabels (y) → 0=glass, 1=organic, 2=paper, 3=plastic\")\n",
        "print(y[:5])"
      ],
      "metadata": {
        "colab": {
          "base_uri": "https://localhost:8080/"
        },
        "id": "67GQLe15tEk0",
        "outputId": "f6df7ac2-3cb0-4a4f-d788-6d0166450a34"
      },
      "execution_count": 3,
      "outputs": [
        {
          "output_type": "stream",
          "name": "stdout",
          "text": [
            "Features (X):\n",
            "   weight_kg  volume_liters  color_score\n",
            "0   1.935247       6.599301     0.103124\n",
            "1   4.758500       1.299330     0.902553\n",
            "2   3.686770       2.035473     0.505252\n",
            "3   3.033427       9.036265     0.826457\n",
            "4   0.864491       6.261076     0.320050\n",
            "\n",
            "Labels (y) → 0=glass, 1=organic, 2=paper, 3=plastic\n",
            "[3 1 0 1 3]\n"
          ]
        }
      ]
    },
    {
      "cell_type": "code",
      "source": [
        "# BLOCK 3: Split data\n",
        "from sklearn.model_selection import train_test_split\n",
        "\n",
        "X_train, X_test, y_train, y_test = train_test_split(\n",
        "    X, y, test_size=0.2, random_state=42\n",
        ")\n",
        "\n",
        "print(f\"Training samples: {len(X_train)}\")\n",
        "print(f\"Testing samples: {len(X_test)}\")"
      ],
      "metadata": {
        "colab": {
          "base_uri": "https://localhost:8080/"
        },
        "id": "DfWppVj-tRwZ",
        "outputId": "6da78116-4361-4b36-bdde-4b5184de76c6"
      },
      "execution_count": 4,
      "outputs": [
        {
          "output_type": "stream",
          "name": "stdout",
          "text": [
            "Training samples: 160\n",
            "Testing samples: 40\n"
          ]
        }
      ]
    },
    {
      "cell_type": "code",
      "source": [
        "# BLOCK 4: Train Decision Tree\n",
        "from sklearn.tree import DecisionTreeClassifier\n",
        "\n",
        "# Create model\n",
        "clf = DecisionTreeClassifier(random_state=42)\n",
        "\n",
        "# Train it\n",
        "clf.fit(X_train, y_train)\n",
        "\n",
        "print(\"Smart Bin model trained!\")"
      ],
      "metadata": {
        "colab": {
          "base_uri": "https://localhost:8080/"
        },
        "id": "-bTWlX-ptbYr",
        "outputId": "7cbb490b-fe12-41ed-fef2-1fbf9602353c"
      },
      "execution_count": 5,
      "outputs": [
        {
          "output_type": "stream",
          "name": "stdout",
          "text": [
            "Smart Bin model trained!\n"
          ]
        }
      ]
    },
    {
      "cell_type": "code",
      "source": [
        "# BLOCK 5: Predict and evaluate\n",
        "from sklearn.metrics import accuracy_score, classification_report\n",
        "\n",
        "# Predict on test data\n",
        "y_pred = clf.predict(X_test)\n",
        "\n",
        "# Accuracy\n",
        "accuracy = accuracy_score(y_test, y_pred)\n",
        "print(f\"Accuracy: {accuracy:.3f} → {accuracy*100:.1f}%\")\n",
        "\n",
        "# Full report\n",
        "print(\"\\nClassification Report:\")\n",
        "print(classification_report(y_test, y_pred, target_names=le.classes_))"
      ],
      "metadata": {
        "colab": {
          "base_uri": "https://localhost:8080/"
        },
        "id": "ocjPFEs6tgLi",
        "outputId": "8e410fab-44b3-4f40-dc1e-63e723cbb9e9"
      },
      "execution_count": 6,
      "outputs": [
        {
          "output_type": "stream",
          "name": "stdout",
          "text": [
            "Accuracy: 0.250 → 25.0%\n",
            "\n",
            "Classification Report:\n",
            "              precision    recall  f1-score   support\n",
            "\n",
            "       glass       0.00      0.00      0.00         8\n",
            "     organic       0.17      0.10      0.12        10\n",
            "       paper       0.20      0.20      0.20        10\n",
            "     plastic       0.47      0.58      0.52        12\n",
            "\n",
            "    accuracy                           0.25        40\n",
            "   macro avg       0.21      0.22      0.21        40\n",
            "weighted avg       0.23      0.25      0.24        40\n",
            "\n"
          ]
        }
      ]
    }
  ]
}